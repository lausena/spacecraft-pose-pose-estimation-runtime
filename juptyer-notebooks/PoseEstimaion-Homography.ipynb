{
 "cells": [
  {
   "cell_type": "code",
   "execution_count": 1,
   "id": "3dbcbebc-8a84-4552-9dbd-0270e7a7f0be",
   "metadata": {},
   "outputs": [],
   "source": [
    "!pip install transforms3d --quiet"
   ]
  },
  {
   "cell_type": "code",
   "execution_count": 29,
   "id": "dd85f80e-ee71-46cf-bbbe-f6ce7f4fe803",
   "metadata": {},
   "outputs": [],
   "source": [
    "import os\n",
    "import cv2 \n",
    "import matplotlib.pyplot as plt\n",
    "import numpy as np\n",
    "from scipy.spatial.transform import Rotation\n",
    "from sklearn.metrics import mean_absolute_error\n",
    "from sklearn.preprocessing import MinMaxScaler\n",
    "from sklearn.metrics import mean_absolute_error, mean_squared_error\n",
    "import transforms3d.quaternions as quat\n",
    "from scipy import signal\n",
    "import scipy.fft as sfft"
   ]
  },
  {
   "cell_type": "code",
   "execution_count": 92,
   "id": "624bf600-a51a-4172-bb9e-a117cff1019c",
   "metadata": {},
   "outputs": [],
   "source": [
    "focal_length_x = 5212.5371\n",
    "focal_length_y = 6255.0444\n",
    "principal_point_x = 640.\n",
    "principal_point_y = 512.\n",
    "# camera intrinsics\n",
    "K = np.array([[focal_length_x, 0, principal_point_x],\n",
    "                          [0, focal_length_y,principal_point_y],\n",
    "                          [0, 0, 1]])\n",
    "\n",
    "root = '/home/lausena/developer/repos/spacecraft-pose-pose-estimation-runtime/'\n",
    "reference_path = os.path.join(root, 'data/images/0a998b28bd/000.png')\n",
    "target_path = os.path.join(root, 'data/images/0a998b28bd/001.png')\n",
    "\n",
    "reference_image = cv2.imread(reference_path, cv2.COLOR_BGR2GRAY)\n",
    "target_image = cv2.imread(target_path, cv2.COLOR_BGR2GRAY)\n",
    "\n",
    "expected_random_quat = np.array([0,0,0,0])\n",
    "expected_random_trans = np.array([0,0,0])\n",
    "expected_translation = np.array([2.21703339,23.38332176,12.38890553])\n",
    "expected_quaternion = np.array([0.99002814,-0.0722533,0.07088085,-0.09797749])"
   ]
  },
  {
   "cell_type": "markdown",
   "id": "db7a8ba0-4f98-4a9f-a4e2-cad8427cb571",
   "metadata": {},
   "source": [
    "#### Detect Keypoints and extract descriptors \n",
    "\n",
    "**Key points** are feature points--disintct locations in an image that represent significant information about the local structure or appearce.\n",
    "\n",
    "**Descriptors** care compact representations of the local image information surrounding keypoints. They encode the appearance or texture of the neighborhood around each keypoint."
   ]
  },
  {
   "cell_type": "code",
   "execution_count": 105,
   "id": "6064ae83-cd49-4686-b3bc-a536e61637e5",
   "metadata": {},
   "outputs": [],
   "source": [
    "def find_homography(reference_image, target_image, model):\n",
    "    keypoints_reference, descriptors_reference = model.detectAndCompute(reference_image, None)\n",
    "    keypoints_target, descriptors_target = model.detectAndCompute(target_image, None)\n",
    "\n",
    "    bf = cv2.BFMatcher()\n",
    "    matches = bf.knnMatch(descriptors_reference, descriptors_target, k=2)\n",
    "    \n",
    "    print(len(matches))\n",
    "    best_matches = []\n",
    "    for m, n in matches:\n",
    "        if m.distance < 0.75 * n.distance:\n",
    "            best_matches.append(m)\n",
    "\n",
    "    print(len(best_matches))\n",
    "    src_pts = np.float32([keypoints_reference[m.queryIdx].pt for m in best_matches]).reshape(-1, 1, 2)\n",
    "    dst_pts = np.float32([keypoints_target[m.trainIdx].pt for m in best_matches]).reshape(-1, 1, 2)\n",
    "\n",
    "    # get the homography matrix H\n",
    "    H, _ = cv2.findHomography(src_pts, dst_pts, cv2.RANSAC, 5.0)\n",
    "\n",
    "    return H"
   ]
  },
  {
   "cell_type": "code",
   "execution_count": 106,
   "id": "585baa25-06e5-4258-bb2f-50d659646b0e",
   "metadata": {},
   "outputs": [],
   "source": [
    "def decompose_homography(H, K):\n",
    "    _, rotation_matrix, translation_vector, _ = cv2.decomposeHomographyMat(H, K)\n",
    "    return rotation_matrix[0], translation_vector[0]"
   ]
  },
  {
   "cell_type": "code",
   "execution_count": 107,
   "id": "eb8ca563-ed23-41b8-845f-c7f08129a073",
   "metadata": {},
   "outputs": [
    {
     "name": "stdout",
     "output_type": "stream",
     "text": [
      "206\n",
      "41\n"
     ]
    }
   ],
   "source": [
    "H = find_homography(reference_image, target_image, cv2.SIFT_create())"
   ]
  },
  {
   "cell_type": "code",
   "execution_count": 108,
   "id": "7c419779-2e2e-477d-9d65-4711fa73c0c0",
   "metadata": {},
   "outputs": [],
   "source": [
    "rotation_matrix, translation_vector = decompose_homography(H, K)"
   ]
  },
  {
   "cell_type": "code",
   "execution_count": 109,
   "id": "cf4cdfaa-1090-423c-9a33-1a4749ea9827",
   "metadata": {},
   "outputs": [
    {
     "name": "stdout",
     "output_type": "stream",
     "text": [
      "Rotation Matrix: [[-0.91878396  0.01865646 -0.39431963]\n",
      " [ 0.00782778  0.99954724  0.02905249]\n",
      " [ 0.39468311  0.02360631 -0.91851401]]\n",
      "Translation Vector: [[ 1.72177602]\n",
      " [-0.12129229]\n",
      " [ 8.86798939]]\n"
     ]
    }
   ],
   "source": [
    "print(f'Rotation Matrix: {rotation_matrix}')\n",
    "print(f'Translation Vector: {translation_vector}')"
   ]
  },
  {
   "cell_type": "code",
   "execution_count": 111,
   "id": "1b8cc002-4b97-4bcc-bfcf-66d9ed1d6825",
   "metadata": {},
   "outputs": [
    {
     "name": "stdout",
     "output_type": "stream",
     "text": [
      "[ 0.00676037  0.97939333  0.01344169 -0.20140089]\n",
      "[ 0.99002814 -0.0722533   0.07088085 -0.09797749]\n",
      "Random Quat: 0.24999999999999997\n",
      "Actual Qaut: 0.5216929520405501\n"
     ]
    }
   ],
   "source": [
    "quaternion = Rotation.from_matrix(rotation_matrix).as_quat()\n",
    "print(quaternion)\n",
    "print(expected_quaternion)\n",
    "print(f'Random Quat: {mean_squared_error(quaternion, expected_random_quat)}')\n",
    "print(f'Actual Qaut: {mean_squared_error(quaternion, expected_quaternion)}')"
   ]
  },
  {
   "cell_type": "code",
   "execution_count": null,
   "id": "d2b47970-6893-4df0-985f-4fa577401b3c",
   "metadata": {},
   "outputs": [],
   "source": []
  },
  {
   "cell_type": "code",
   "execution_count": null,
   "id": "f3173445-c82d-4528-96db-def58c6d21bc",
   "metadata": {},
   "outputs": [],
   "source": []
  }
 ],
 "metadata": {
  "kernelspec": {
   "display_name": "Python 3 (ipykernel)",
   "language": "python",
   "name": "python3"
  },
  "language_info": {
   "codemirror_mode": {
    "name": "ipython",
    "version": 3
   },
   "file_extension": ".py",
   "mimetype": "text/x-python",
   "name": "python",
   "nbconvert_exporter": "python",
   "pygments_lexer": "ipython3",
   "version": "3.11.7"
  }
 },
 "nbformat": 4,
 "nbformat_minor": 5
}
