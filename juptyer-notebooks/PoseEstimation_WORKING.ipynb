{
 "cells": [
  {
   "cell_type": "code",
   "execution_count": 1,
   "id": "86e4e59d-018f-43a8-904a-9ad7523057c5",
   "metadata": {},
   "outputs": [],
   "source": [
    "!pip install timm --quiet"
   ]
  },
  {
   "cell_type": "code",
   "execution_count": 2,
   "id": "ac34a92f-c038-498a-8d7c-a3c6c63bff31",
   "metadata": {},
   "outputs": [],
   "source": [
    "import os\n",
    "import cv2\n",
    "import matplotlib.pyplot as plt\n",
    "import numpy as np\n",
    "from scipy.spatial.transform import Rotation\n",
    "from sklearn.metrics import mean_absolute_error, mean_squared_error\n",
    "from sklearn.preprocessing import MinMaxScaler\n",
    "import transforms3d.quaternions as quat\n",
    "from scipy import signal\n",
    "import scipy.fft as sfft\n",
    "import torch\n",
    "from torchvision.transforms import Compose, Resize, ToTensor, Normalize\n",
    "from PIL import Image\n",
    "import matplotlib.pyplot as plt"
   ]
  },
  {
   "cell_type": "code",
   "execution_count": 3,
   "id": "68676215-1535-41dc-be73-9afb69db0235",
   "metadata": {},
   "outputs": [],
   "source": [
    "def estimate_depth(image_path):\n",
    "    model_type = \"DPT_Large\"\n",
    "    midas = torch.hub.load(\"intel-isl/MiDaS\", model_type)\n",
    "    device = torch.device(\"cuda\" if torch.cuda.is_available() else \"cpu\")\n",
    "    midas.to(device)\n",
    "    midas.eval()\n",
    "\n",
    "    transform = Compose([\n",
    "        Resize(384),\n",
    "        ToTensor(),\n",
    "        Normalize(mean=[0.485, 0.456, 0.406], std=[0.229, 0.224, 0.225])\n",
    "    ])\n",
    "\n",
    "    img = Image.open(image_path).convert('RGB')\n",
    "    input_batch = transform(img).to(device).unsqueeze(0)\n",
    "\n",
    "    with torch.no_grad():\n",
    "        prediction = midas(input_batch)\n",
    "        prediction = torch.nn.functional.interpolate(\n",
    "            prediction.unsqueeze(1),\n",
    "            size=img.size[::-1],\n",
    "            mode=\"bicubic\",\n",
    "            align_corners=False,\n",
    "        ).squeeze()\n",
    "\n",
    "    output_depth = prediction.cpu().numpy()\n",
    "    return output_depth"
   ]
  },
  {
   "cell_type": "code",
   "execution_count": 4,
   "id": "8498d291-5a95-4084-9a71-c3c09c0e1b5d",
   "metadata": {},
   "outputs": [],
   "source": [
    "def extract_and_match_features(image1, image2):\n",
    "    sift = cv2.SIFT_create()\n",
    "    keypoints1, descriptors1 = sift.detectAndCompute(image1, None)\n",
    "    keypoints2, descriptors2 = sift.detectAndCompute(image2, None)\n",
    "\n",
    "    FLANN_INDEX_KDTREE = 1\n",
    "    index_params = dict(algorithm=FLANN_INDEX_KDTREE, trees=5)\n",
    "    search_params = dict(checks=50)\n",
    "    flann = cv2.FlannBasedMatcher(index_params, search_params)\n",
    "\n",
    "    matches = flann.knnMatch(descriptors1, descriptors2, k=2)\n",
    "\n",
    "    good_matches = []\n",
    "    for m, n in matches:\n",
    "        if m.distance < 0.7 * n.distance:\n",
    "            good_matches.append(m)\n",
    "\n",
    "    points1 = np.zeros((len(good_matches), 2), dtype=np.float32)\n",
    "    points2 = np.zeros((len(good_matches), 2), dtype=np.float32)\n",
    "\n",
    "    for i, match in enumerate(good_matches):\n",
    "        points1[i, :] = keypoints1[match.queryIdx].pt\n",
    "        points2[i, :] = keypoints2[match.trainIdx].pt\n",
    "\n",
    "    image1_with_keypoints = cv2.drawKeypoints(image1, keypoints1, None, flags=cv2.DRAW_MATCHES_FLAGS_DRAW_RICH_KEYPOINTS)\n",
    "    image2_with_keypoints = cv2.drawKeypoints(image2, keypoints2, None, flags=cv2.DRAW_MATCHES_FLAGS_DRAW_RICH_KEYPOINTS)\n",
    "\n",
    "    plt.figure(figsize=(10, 5))\n",
    "    plt.subplot(1, 2, 1)\n",
    "    plt.imshow(cv2.cvtColor(image1_with_keypoints, cv2.COLOR_BGR2RGB))\n",
    "    plt.title('Image 1 with SIFT Keypoints')\n",
    "    plt.axis('off')\n",
    "\n",
    "    plt.subplot(1, 2, 2)\n",
    "    plt.imshow(cv2.cvtColor(image2_with_keypoints, cv2.COLOR_BGR2RGB))\n",
    "    plt.title('Image 2 with SIFT Keypoints')\n",
    "    plt.axis('off')\n",
    "\n",
    "    plt.tight_layout()\n",
    "    plt.show()\n",
    "\n",
    "    return points1, points2"
   ]
  },
  {
   "cell_type": "code",
   "execution_count": 5,
   "id": "3300fc8c-4a1f-4dc1-b148-4fb71e09dfe5",
   "metadata": {},
   "outputs": [],
   "source": [
    "def derive_3d_points(matched_points_2d, depth_map):\n",
    "    points_3d = []\n",
    "    for x, y in matched_points_2d:\n",
    "        depth = depth_map[int(y), int(x)]\n",
    "        points_3d.append([x, y, depth])\n",
    "    return np.array(points_3d)"
   ]
  },
  {
   "cell_type": "code",
   "execution_count": 6,
   "id": "4a1f8751-ddb6-4d4c-ac5a-4728cb746ee6",
   "metadata": {},
   "outputs": [],
   "source": [
    "def estimate_pose(points_3d, points_2d, camera_matrix):\n",
    "    _, rvec, tvec = cv2.solvePnP(points_3d, points_2d, camera_matrix, None)\n",
    "    return rvec, tvec"
   ]
  },
  {
   "cell_type": "markdown",
   "id": "c8ec02bc-cf29-4b3c-a684-a38346c0fc2a",
   "metadata": {},
   "source": [
    "### Step 1 Feature Matching"
   ]
  },
  {
   "cell_type": "code",
   "execution_count": 7,
   "id": "7e8586a3-830a-4745-9c60-110807e14bc9",
   "metadata": {},
   "outputs": [],
   "source": [
    "root = '/home/lausena/developer/repos/spacecraft-pose-pose-estimation-runtime/'\n",
    "reference_path = os.path.join(root, 'data/images/01f0f7459b/000.png')\n",
    "target_path = os.path.join(root, 'data/images/01f0f7459b/001.png')\n",
    "\n",
    "reference_image = cv2.imread(reference_path)\n",
    "target_image = cv2.imread(target_path)"
   ]
  },
  {
   "cell_type": "code",
   "execution_count": 8,
   "id": "7d967f80-f121-4d81-bfbf-38be39b213d4",
   "metadata": {},
   "outputs": [
    {
     "data": {
      "image/png": "[encoded data removed]",
      "text/plain": [
       "<Figure size 1000x500 with 2 Axes>"
      ]
     },
     "metadata": {},
     "output_type": "display_data"
    }
   ],
   "source": [
    "matched_points_ref, matched_points_target = extract_and_match_features(reference_image, target_image)"
   ]
  },
  {
   "cell_type": "markdown",
   "id": "c34327a2-986a-4348-8c97-7a29da224f71",
   "metadata": {},
   "source": [
    "### Step 2 : Depth Estimation"
   ]
  },
  {
   "cell_type": "code",
   "execution_count": 9,
   "id": "ff7d9769-22d2-4fee-90b2-9961218aa6d4",
   "metadata": {},
   "outputs": [
    {
     "name": "stderr",
     "output_type": "stream",
     "text": [
      "Using cache found in /home/lausena/.cache/torch/hub/intel-isl_MiDaS_master\n",
      "/home/lausena/miniconda3/envs/spacecraftpose/lib/python3.11/site-packages/tqdm/auto.py:21: TqdmWarning: IProgress not found. Please update jupyter and ipywidgets. See https://ipywidgets.readthedocs.io/en/stable/user_install.html\n",
      "  from .autonotebook import tqdm as notebook_tqdm\n"
     ]
    },
    {
     "data": {
      "text/plain": [
       "array([[15.9865885, 15.991034 , 16.004837 , ..., 15.09929  , 14.998537 ,\n",
       "        14.960471 ],\n",
       "       [15.998363 , 16.00129  , 16.01105  , ..., 15.126739 , 15.040976 ,\n",
       "        15.008893 ],\n",
       "       [16.032017 , 16.030228 , 16.027546 , ..., 15.192005 , 15.141235 ,\n",
       "        15.12321  ],\n",
       "       ...,\n",
       "       [13.760526 , 13.7608385, 13.762195 , ..., 12.95661  , 12.918846 ,\n",
       "        12.904731 ],\n",
       "       [13.751012 , 13.7534485, 13.760692 , ..., 12.918366 , 12.868237 ,\n",
       "        12.848447 ],\n",
       "       [13.749536 , 13.752631 , 13.761815 , ..., 12.903109 , 12.847812 ,\n",
       "        12.825684 ]], dtype=float32)"
      ]
     },
     "execution_count": 9,
     "metadata": {},
     "output_type": "execute_result"
    }
   ],
   "source": [
    "depth_map_target = estimate_depth(target_path)\n",
    "depth_map_target"
   ]
  },
  {
   "cell_type": "markdown",
   "id": "705098c5-fc26-4f6a-b2a2-ecd418ea499f",
   "metadata": {},
   "source": [
    "### Step 3 : Depth Estimation"
   ]
  },
  {
   "cell_type": "code",
   "execution_count": 10,
   "id": "e871892c-912d-4b14-baf1-be9f4d5b6d07",
   "metadata": {},
   "outputs": [],
   "source": [
    "matched_points_3d_target = derive_3d_points(matched_points_target, depth_map_target)"
   ]
  },
  {
   "cell_type": "markdown",
   "id": "ee05f26c-dfce-45fe-a23a-6539d5bd2b21",
   "metadata": {},
   "source": [
    "### Step 4: Estimate 3D Position and Orientation"
   ]
  },
  {
   "cell_type": "code",
   "execution_count": 11,
   "id": "a0ed1f46-29f3-432f-8c5f-0296e2e9350e",
   "metadata": {},
   "outputs": [],
   "source": [
    "focal_length_x = 5212.5371\n",
    "focal_length_y = 6255.0444\n",
    "principal_point_x = target_image.shape[1] / 2\n",
    "principal_point_y = target_image.shape[0] / 2\n",
    "K = np.array([[focal_length_x, 0, principal_point_x],\n",
    "                          [0, focal_length_y,principal_point_y],\n",
    "                          [0, 0, 1]])\n",
    "\n",
    "laser_range_distance = 300\n",
    "\n",
    "rvec, tvec = estimate_pose(matched_points_3d_target, matched_points_ref, K)"
   ]
  },
  {
   "cell_type": "code",
   "execution_count": 12,
   "id": "38125b1e-7a07-44d4-9957-34e1521c814a",
   "metadata": {},
   "outputs": [
    {
     "data": {
      "text/plain": [
       "array([[-1.70224352],\n",
       "       [-0.1535159 ],\n",
       "       [-1.04898969]])"
      ]
     },
     "execution_count": 12,
     "metadata": {},
     "output_type": "execute_result"
    }
   ],
   "source": [
    "rvec"
   ]
  },
  {
   "cell_type": "code",
   "execution_count": 13,
   "id": "be6cee82-5fa4-4790-8b6e-4115c53dfbfa",
   "metadata": {},
   "outputs": [],
   "source": [
    "rotation_matrix, _ = cv2.Rodrigues(rvec)"
   ]
  },
  {
   "cell_type": "code",
   "execution_count": 14,
   "id": "aa5cc82a-30a6-4f7d-b0fd-a6ee9ac6387f",
   "metadata": {},
   "outputs": [
    {
     "data": {
      "text/plain": [
       "array([[ 0.60284942,  0.56679973,  0.56152528],\n",
       "       [-0.38212197, -0.41271219,  0.82683218],\n",
       "       [ 0.70039658, -0.71302644, -0.03221668]])"
      ]
     },
     "execution_count": 14,
     "metadata": {},
     "output_type": "execute_result"
    }
   ],
   "source": [
    "rotation_matrix"
   ]
  },
  {
   "cell_type": "code",
   "execution_count": 15,
   "id": "2579a5ad-bc9b-4abf-9670-109d785ea068",
   "metadata": {},
   "outputs": [
    {
     "data": {
      "text/plain": [
       "0.18503643812674658"
      ]
     },
     "execution_count": 15,
     "metadata": {},
     "output_type": "execute_result"
    }
   ],
   "source": [
    "mean_squared_error(Rotation.from_matrix(rotation_matrix).as_quat(), np.array([0.98997474,-0.0941886,-0.07856753,0.07003857]))"
   ]
  },
  {
   "cell_type": "code",
   "execution_count": 16,
   "id": "931e605e-7950-43ab-99eb-80248eb3d593",
   "metadata": {},
   "outputs": [
    {
     "data": {
      "text/plain": [
       "array([ -712.73723003,   459.65148593, -3362.7104847 ])"
      ]
     },
     "execution_count": 16,
     "metadata": {},
     "output_type": "execute_result"
    }
   ],
   "source": [
    "tvec.flatten()"
   ]
  },
  {
   "cell_type": "code",
   "execution_count": 17,
   "id": "17e3ba12-f014-4c7c-9277-6e4dac84851f",
   "metadata": {},
   "outputs": [
    {
     "data": {
      "text/plain": [
       "3933767.421276611"
      ]
     },
     "execution_count": 17,
     "metadata": {},
     "output_type": "execute_result"
    }
   ],
   "source": [
    "mean_squared_error(tvec.flatten(), np.array([7.64022827,-46.98920059,-42.21747971]))"
   ]
  },
  {
   "cell_type": "code",
   "execution_count": 18,
   "id": "44e8c7f4-b20a-4b8a-a0df-bfe8635891d5",
   "metadata": {},
   "outputs": [],
   "source": [
    "# 7.64022827,-46.98920059,-42.21747971 (actual translation)\n",
    "# 0.98997474,-0.0941886,-0.07856753,0.07003857 (actual rotation)"
   ]
  },
  {
   "cell_type": "code",
   "execution_count": null,
   "id": "56b63f91-1858-459a-ace1-e08a7300784f",
   "metadata": {},
   "outputs": [],
   "source": []
  }
 ],
 "metadata": {
  "kernelspec": {
   "display_name": "Python 3 (ipykernel)",
   "language": "python",
   "name": "python3"
  },
  "language_info": {
   "codemirror_mode": {
    "name": "ipython",
    "version": 3
   },
   "file_extension": ".py",
   "mimetype": "text/x-python",
   "name": "python",
   "nbconvert_exporter": "python",
   "pygments_lexer": "ipython3",
   "version": "3.11.7"
  }
 },
 "nbformat": 4,
 "nbformat_minor": 5
}
