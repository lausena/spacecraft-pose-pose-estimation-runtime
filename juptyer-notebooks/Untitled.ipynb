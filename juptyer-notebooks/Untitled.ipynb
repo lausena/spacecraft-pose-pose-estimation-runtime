{
 "cells": [
  {
   "cell_type": "code",
   "execution_count": 1,
   "id": "b4e54322-905b-4f7a-985e-24f8a7c436a0",
   "metadata": {},
   "outputs": [
    {
     "name": "stdout",
     "output_type": "stream",
     "text": [
      "Translation needed to get back to the relative image from the target image: [0. 0. 0.]\n"
     ]
    }
   ],
   "source": [
    "import numpy as np\n",
    "\n",
    "# Function to calculate rotation matrix from quaternion\n",
    "def quaternion_to_rotation_matrix(q):\n",
    "    qw, qx, qy, qz = q\n",
    "    rotation_matrix = np.array([\n",
    "        [1 - 2*qy**2 - 2*qz**2, 2*qx*qy - 2*qz*qw, 2*qx*qz + 2*qy*qw],\n",
    "        [2*qx*qy + 2*qz*qw, 1 - 2*qx**2 - 2*qz**2, 2*qy*qz - 2*qx*qw],\n",
    "        [2*qx*qz - 2*qy*qw, 2*qy*qz + 2*qx*qw, 1 - 2*qx**2 - 2*qy**2]\n",
    "    ])\n",
    "    return rotation_matrix\n",
    "\n",
    "# Transformation parameters of the first image\n",
    "x_rel, y_rel, z_rel = 0, 0, 0\n",
    "qw_rel, qx_rel, qy_rel, qz_rel = 1, 0, 0, 0\n",
    "\n",
    "# Calculate rotation matrix from quaternion\n",
    "rotation_matrix_rel = quaternion_to_rotation_matrix([qw_rel, qx_rel, qy_rel, qz_rel])\n",
    "\n",
    "# Translation vector of the first image\n",
    "translation_rel = np.array([x_rel, y_rel, z_rel])\n",
    "\n",
    "# Form transformation matrix\n",
    "transformation_matrix_rel = np.eye(4)\n",
    "transformation_matrix_rel[:3, :3] = rotation_matrix_rel\n",
    "transformation_matrix_rel[:3, 3] = translation_rel\n",
    "\n",
    "# Invert transformation matrix to find transformation from relative to target\n",
    "transformation_matrix_rel_inv = np.linalg.inv(transformation_matrix_rel)\n",
    "\n",
    "# Translation vector needed to get back to the relative image from target image\n",
    "translation_target_to_relative = transformation_matrix_rel_inv[:3, 3]\n",
    "\n",
    "print(\"Translation needed to get back to the relative image from the target image:\", translation_target_to_relative)\n"
   ]
  },
  {
   "cell_type": "code",
   "execution_count": null,
   "id": "b79a873b-5fcb-4950-8696-7d02be04cb66",
   "metadata": {},
   "outputs": [],
   "source": []
  }
 ],
 "metadata": {
  "kernelspec": {
   "display_name": "Python 3 (ipykernel)",
   "language": "python",
   "name": "python3"
  },
  "language_info": {
   "codemirror_mode": {
    "name": "ipython",
    "version": 3
   },
   "file_extension": ".py",
   "mimetype": "text/x-python",
   "name": "python",
   "nbconvert_exporter": "python",
   "pygments_lexer": "ipython3",
   "version": "3.11.7"
  }
 },
 "nbformat": 4,
 "nbformat_minor": 5
}
