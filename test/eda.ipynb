{
 "cells": [
  {
   "cell_type": "code",
   "execution_count": 1,
   "metadata": {},
   "outputs": [
    {
     "name": "stderr",
     "output_type": "stream",
     "text": [
      "2024-03-17 21:14:27.879353: E external/local_xla/xla/stream_executor/cuda/cuda_dnn.cc:9261] Unable to register cuDNN factory: Attempting to register factory for plugin cuDNN when one has already been registered\n",
      "2024-03-17 21:14:27.879408: E external/local_xla/xla/stream_executor/cuda/cuda_fft.cc:607] Unable to register cuFFT factory: Attempting to register factory for plugin cuFFT when one has already been registered\n",
      "2024-03-17 21:14:27.880278: E external/local_xla/xla/stream_executor/cuda/cuda_blas.cc:1515] Unable to register cuBLAS factory: Attempting to register factory for plugin cuBLAS when one has already been registered\n",
      "2024-03-17 21:14:27.887108: I tensorflow/core/platform/cpu_feature_guard.cc:182] This TensorFlow binary is optimized to use available CPU instructions in performance-critical operations.\n",
      "To enable the following instructions: AVX2 FMA, in other operations, rebuild TensorFlow with the appropriate compiler flags.\n",
      "2024-03-17 21:14:28.770310: W tensorflow/compiler/tf2tensorrt/utils/py_utils.cc:38] TF-TRT Warning: Could not find TensorRT\n"
     ]
    }
   ],
   "source": [
    "import numpy as np\n",
    "import matplotlib.pyplot as plt\n",
    "import tensorflow as tf, tensorflow.keras as keras\n",
    "from keras.layers import Conv2D, Conv3D, MaxPooling2D, Flatten, Dropout, Dense, BatchNormalization, Input\n",
    "from keras.models import Model\n",
    "import cv2\n",
    "import os\n",
    "import pandas as pd\n",
    "from keras.preprocessing.image import ImageDataGenerator\n",
    "import scripts\n",
    "from sklearn.multioutput import MultiOutputRegressor\n",
    "from sklearn.neighbors import KNeighborsRegressor"
   ]
  },
  {
   "cell_type": "code",
   "execution_count": 14,
   "metadata": {},
   "outputs": [
    {
     "name": "stdout",
     "output_type": "stream",
     "text": [
      "[[ 0.00921875  0.00921875  0.0053125  ... -0.00269531 -0.0009375\n",
      "  -0.000625  ]\n",
      " [ 0.00921875  0.00921875  0.0053125  ... -0.00269531 -0.0009375\n",
      "  -0.000625  ]\n",
      " [ 0.00921875  0.00921875  0.00707031 ...  0.02417969  0.01050781\n",
      "  -0.000625  ]\n",
      " ...\n",
      " [ 0.00113281  0.00113281  0.00394531 ...  0.00160156  0.00347656\n",
      "  -0.0025    ]\n",
      " [ 0.0259375   0.0259375   0.02441406 ...  0.00390625  0.00390625\n",
      "   0.00097656]\n",
      " [ 0.00921875  0.00921875  0.02269531 ...  0.00101563  0.00347656\n",
      "   0.000625  ]]\n"
     ]
    }
   ],
   "source": [
    "dfY = pd.read_csv(\"../data/train_labels.csv\")[:20 * 100] # train on count number of image chains (each chain has 100 images)\n",
    "# Generate path for each image (necessary for image generator)\n",
    "dfY[\"path\"] = [f\"{id}/{i:03d}.png\" for id, i in zip(dfY[\"chain_id\"], dfY[\"i\"])]\n",
    "\n",
    "img = cv2.imread(\"../data/images/\" + dfY.iloc[[5]].path.get(5))\n",
    "gray = cv2.cvtColor(img, cv2.COLOR_BGR2GRAY)\n",
    "\n",
    "# find Harris corners\n",
    "gray = np.float32(gray)\n",
    "dst = cv2.cornerHarris(gray,2,3,0.04)\n",
    "print(dst)\n",
    "dst = cv2.dilate(dst, None)\n",
    "# Threshold for an optimal value, it may vary depending on the image.\n",
    "img[dst>0.01*dst.max()]=[0,0,255]\n",
    "\n",
    "cv2.imshow('dst',img)\n",
    "if cv2.waitKey(0) & 0xff == 27:\n",
    "    cv2.destroyAllWindows()"
   ]
  }
 ],
 "metadata": {
  "kernelspec": {
   "display_name": "Python 3",
   "language": "python",
   "name": "python3"
  },
  "language_info": {
   "codemirror_mode": {
    "name": "ipython",
    "version": 3
   },
   "file_extension": ".py",
   "mimetype": "text/x-python",
   "name": "python",
   "nbconvert_exporter": "python",
   "pygments_lexer": "ipython3",
   "version": "3.10.13"
  }
 },
 "nbformat": 4,
 "nbformat_minor": 2
}
