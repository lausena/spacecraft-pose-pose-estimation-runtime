{
 "cells": [
  {
   "cell_type": "code",
   "execution_count": 1,
   "id": "95276a61-386d-4ebb-9ce4-f64a5e070b4e",
   "metadata": {},
   "outputs": [
    {
     "name": "stdout",
     "output_type": "stream",
     "text": [
      "/workspace/School/Deep_Neural_Nets/Final_Project/Working_Branches/aaron_working_2024-04-26/src\n"
     ]
    }
   ],
   "source": [
    "%%sh\n",
    "pwd"
   ]
  },
  {
   "cell_type": "code",
   "execution_count": 2,
   "id": "4b25795b-5f49-4e90-aa8a-3cb69b3bd5d1",
   "metadata": {},
   "outputs": [
    {
     "name": "stderr",
     "output_type": "stream",
     "text": [
      "2024-04-27 16:41:26.443025: I tensorflow/core/platform/cpu_feature_guard.cc:210] This TensorFlow binary is optimized to use available CPU instructions in performance-critical operations.\n",
      "To enable the following instructions: AVX2 FMA, in other operations, rebuild TensorFlow with the appropriate compiler flags.\n"
     ]
    }
   ],
   "source": [
    "import numpy as np\n",
    "import pandas as pd\n",
    "from sklearn.model_selection import train_test_split\n",
    "import keras\n",
    "from keras.layers import Input, Dense, Dropout, GlobalAveragePooling2D, Concatenate, Flatten, Conv2D, MaxPooling2D, AvgPool2D, Lambda\n",
    "from keras.optimizers import Adam\n",
    "from keras import Model\n",
    "import math\n",
    "import tensorflow as tf\n",
    "from keras.models import Sequential"
   ]
  },
  {
   "cell_type": "code",
   "execution_count": 3,
   "id": "a4705b07",
   "metadata": {},
   "outputs": [],
   "source": [
    "dfY = pd.read_csv(\"/workspace/School/Deep_Neural_Nets/Final_Project/all_data/train_labels.csv\")[:1500]\n",
    "dfY[\"path\"] = [f\"/workspace/School/Deep_Neural_Nets/Final_Project/all_data/images/{id}/{i:03d}.png\" for id, i in zip(dfY[\"chain_id\"], dfY[\"i\"])]\n",
    "dfY[\"base_path\"] = [f\"/workspace/School/Deep_Neural_Nets/Final_Project/all_data/images/{id}/000.png\" for id, i in zip(dfY[\"chain_id\"], dfY[\"i\"])]\n",
    "x_train, x_test, y_train, y_test = train_test_split(dfY[[\"path\", \"base_path\"]], dfY[[\"x\", \"y\", \"z\", \"qw\",\"qx\",\"qy\",\"qz\"]], test_size=0.25, random_state=42)\n",
    "x_train = pd.DataFrame(x_train, columns=[\"path\", \"base_path\"])\n",
    "x_test = pd.DataFrame(x_test, columns=[\"path\", \"base_path\"])"
   ]
  },
  {
   "cell_type": "code",
   "execution_count": 4,
   "id": "8682f79e",
   "metadata": {},
   "outputs": [
    {
     "data": {
      "text/html": [
       "<div>\n",
       "<style scoped>\n",
       "    .dataframe tbody tr th:only-of-type {\n",
       "        vertical-align: middle;\n",
       "    }\n",
       "\n",
       "    .dataframe tbody tr th {\n",
       "        vertical-align: top;\n",
       "    }\n",
       "\n",
       "    .dataframe thead th {\n",
       "        text-align: right;\n",
       "    }\n",
       "</style>\n",
       "<table border=\"1\" class=\"dataframe\">\n",
       "  <thead>\n",
       "    <tr style=\"text-align: right;\">\n",
       "      <th></th>\n",
       "      <th>path</th>\n",
       "      <th>base_path</th>\n",
       "    </tr>\n",
       "  </thead>\n",
       "  <tbody>\n",
       "    <tr>\n",
       "      <th>1116</th>\n",
       "      <td>/workspace/School/Deep_Neural_Nets/Final_Proje...</td>\n",
       "      <td>/workspace/School/Deep_Neural_Nets/Final_Proje...</td>\n",
       "    </tr>\n",
       "    <tr>\n",
       "      <th>1368</th>\n",
       "      <td>/workspace/School/Deep_Neural_Nets/Final_Proje...</td>\n",
       "      <td>/workspace/School/Deep_Neural_Nets/Final_Proje...</td>\n",
       "    </tr>\n",
       "    <tr>\n",
       "      <th>422</th>\n",
       "      <td>/workspace/School/Deep_Neural_Nets/Final_Proje...</td>\n",
       "      <td>/workspace/School/Deep_Neural_Nets/Final_Proje...</td>\n",
       "    </tr>\n",
       "    <tr>\n",
       "      <th>413</th>\n",
       "      <td>/workspace/School/Deep_Neural_Nets/Final_Proje...</td>\n",
       "      <td>/workspace/School/Deep_Neural_Nets/Final_Proje...</td>\n",
       "    </tr>\n",
       "    <tr>\n",
       "      <th>451</th>\n",
       "      <td>/workspace/School/Deep_Neural_Nets/Final_Proje...</td>\n",
       "      <td>/workspace/School/Deep_Neural_Nets/Final_Proje...</td>\n",
       "    </tr>\n",
       "  </tbody>\n",
       "</table>\n",
       "</div>"
      ],
      "text/plain": [
       "                                                   path  \\\n",
       "1116  /workspace/School/Deep_Neural_Nets/Final_Proje...   \n",
       "1368  /workspace/School/Deep_Neural_Nets/Final_Proje...   \n",
       "422   /workspace/School/Deep_Neural_Nets/Final_Proje...   \n",
       "413   /workspace/School/Deep_Neural_Nets/Final_Proje...   \n",
       "451   /workspace/School/Deep_Neural_Nets/Final_Proje...   \n",
       "\n",
       "                                              base_path  \n",
       "1116  /workspace/School/Deep_Neural_Nets/Final_Proje...  \n",
       "1368  /workspace/School/Deep_Neural_Nets/Final_Proje...  \n",
       "422   /workspace/School/Deep_Neural_Nets/Final_Proje...  \n",
       "413   /workspace/School/Deep_Neural_Nets/Final_Proje...  \n",
       "451   /workspace/School/Deep_Neural_Nets/Final_Proje...  "
      ]
     },
     "execution_count": 4,
     "metadata": {},
     "output_type": "execute_result"
    }
   ],
   "source": [
    "x_test.head()\n"
   ]
  },
  {
   "cell_type": "code",
   "execution_count": 9,
   "id": "5c49f034",
   "metadata": {},
   "outputs": [],
   "source": [
    "ToCSV = lambda df, fname: df.round(2).to_csv(f'{fname}.csv')\n",
    "\n",
    "# Loads all images found and trains given model\n",
    "def load_images_and_train_model(model, is_pos_model):\n",
    "    with tf.device('/GPU:0'):\n",
    "        model.summary()\n",
    "        \n",
    "        #for i in range(batches):\n",
    "            #batch = load_new_batch()\n",
    "            #model.fit([np.asarray(batch[0]), np.asarray(batch[1])], y_train[100 * i : 100*(i+1)], epochs=40, batch_size=batch_size_b)\n",
    "        if is_pos_model:\n",
    "            ypos = pd.DataFrame(y_train, index=y_train.index, columns=[\"x\", \"y\", \"z\"])\n",
    "            model.fit(CustomDataGenerator(x_train, y_train, batch_size=100), epochs=3)\n",
    "        else:\n",
    "            yquat = pd.DataFrame(y_train, index=y_train.index, columns=[\"qw\", \"qx\", \"qy\", \"qz\"])\n",
    "            model.fit(CustomDataGenerator(x_train, yquat, batch_size=100), epochs=3)\n",
    "\n",
    "\n",
    "        \n",
    "    #     ypreddf = pd.DataFrame(ypred.T, index=image_label_ds.take(count * 100 * 0.2).index_array, columns=[\"x\", \"y\", \"z\"])\n",
    "    #     dfY = pd.read_csv(\"../data/train_labels.csv\")[:count * 100]\n",
    "    #     dfY_merged = pd.merge(ypreddf.drop([\"x\", \"y\", \"z\"], axis=1), dfY, left_index=True, right_index=True)\n",
    "    #     dfYidx = dfY.drop([\"x\", \"y\", \"z\", \"qw\", \"qx\", \"qy\", \"qz\"], axis=1)\n",
    "    #     df_merged = pd.merge(ypreddf, dfYidx, left_index=True, right_index=True)\n",
    "    #     df_merged[\"qw\"] = 0\n",
    "    #     df_merged[\"qx\"] = 0\n",
    "    #     df_merged[\"qy\"] = 0\n",
    "    #     df_merged[\"qz\"] = 0\n",
    "    #     df_merged.loc[df_merged[\"i\"] == 0, [\"x\", \"y\", \"z\", \"qw\", \"qx\", \"qy\", \"qz\"]] = [0,0,0,1,0,0,0]\n",
    "    #     df_merged.set_index([\"chain_id\", \"i\"], inplace=True)\n",
    "    #    # df_merged.drop([\"id\"], axis=1, inplace=True)\n",
    "    #     ToCSV(df_merged, \"cnn-test\")\n",
    "    #     ToCSV(dfY_merged, \"cnn-true\")\n",
    "\n",
    "    return model\n",
    "\n",
    "# from https://github.com/1988kramer/camera-pose/blob/master/camera-pose.py \n",
    "def create_conv_branch(input_shape):\n",
    "\tmodel = Sequential()\n",
    "\tmodel.add(Conv2D(96, kernel_size=(11,11),\n",
    "\t\t\t\t\t strides=4, padding='valid',\n",
    "\t\t\t\t\t activation='relu',\n",
    "\t\t\t\t\t input_shape=input_shape))\n",
    "\tmodel.add(MaxPooling2D(pool_size=(2,2), strides=2))\n",
    "\t# model.add(Conv2D(128, kernel_size=(5,5),\n",
    "\t# \t\t\t\t strides=1, padding='same',\n",
    "\t# \t\t\t\t activation='relu'))\n",
    "\t# model.add(MaxPooling2D(pool_size=(3,3), strides=1))\n",
    "\t# model.add(Conv2D(256, kernel_size=(3,3),\n",
    "\t# \t\t\t\t strides=1, padding='same',\n",
    "\t# \t\t\t\t activation='relu'))\n",
    "\t# model.add(Conv2D(256, kernel_size=(3,3),\n",
    "\t# \t\t\t\t strides=1, padding='same',\n",
    "\t# \t\t\t\t activation='relu'))\n",
    "\t# model.add(Conv2D(128, kernel_size=(3,3),\n",
    "\t# \t\t\t\t strides=1, padding='same',\n",
    "\t# \t\t\t\t activation='relu'))\n",
    "\t# model.add(MaxPooling2D(pool_size=(3,3), strides=2))\n",
    "\t# model.add(Conv2D(256, kernel_size=(3,3),\n",
    "\t# \t\t\t\t strides=1, padding='same',\n",
    "\t# \t\t\t\t activation='relu'))\n",
    "\t# model.add(Conv2D(128, kernel_size=(3,3),\n",
    "\t# \t\t\t\t strides=1, padding='same',\n",
    "\t# \t\t\t\t activation='relu'))\n",
    "\treturn model\n",
    "\n",
    "def create_conv_branch_pos(input_shape):\n",
    "\tmodel = Sequential()\n",
    "\tmodel.add(Conv2D(96, kernel_size=(11,11),\n",
    "\t\t\t\t\t strides=4, padding='valid',\n",
    "\t\t\t\t\t activation='relu',\n",
    "\t\t\t\t\t input_shape=input_shape))\n",
    "\tmodel.add(MaxPooling2D(pool_size=(2,2), strides=2))\n",
    "\tmodel.add(Conv2D(128, kernel_size=(7,7),\n",
    "\t\t\t\t\t strides=1, padding='same',\n",
    "\t\t\t\t\t activation='relu'))\n",
    "\tmodel.add(MaxPooling2D(pool_size=(3,3), strides=1))\n",
    "\tmodel.add(Conv2D(256, kernel_size=(5,5),\n",
    "\t\t\t\t\t strides=1, padding='same',\n",
    "\t\t\t\t\t activation='relu'))\n",
    "\tmodel.add(Conv2D(256, kernel_size=(3,3),\n",
    "\t\t\t\t\t strides=1, padding='same',\n",
    "\t\t\t\t\t activation='relu'))\n",
    "\tmodel.add(Conv2D(128, kernel_size=(3,3),\n",
    "\t\t\t\t\t strides=1, padding='same',\n",
    "\t\t\t\t\t activation='relu'))\n",
    "\tmodel.add(MaxPooling2D(pool_size=(3,3), strides=2))\n",
    "\tmodel.add(Conv2D(256, kernel_size=(5,5),\n",
    "\t\t\t\t\t strides=1, padding='same',\n",
    "\t\t\t\t\t activation='relu'))\n",
    "\tmodel.add(Conv2D(128, kernel_size=(3,3),\n",
    "\t\t\t\t\t strides=1, padding='same',\n",
    "\t\t\t\t\t activation='relu'))\n",
    "\treturn model"
   ]
  },
  {
   "cell_type": "code",
   "execution_count": 20,
   "id": "98b8fff4",
   "metadata": {},
   "outputs": [],
   "source": [
    "# https://stackoverflow.com/questions/63827339/how-to-build-a-custom-data-generator-for-keras-tf-keras-where-x-images-are-being\n",
    "class CustomDataGenerator(tf.keras.utils.Sequence):\n",
    "\n",
    "    ''' Custom DataGenerator to load img \n",
    "    \n",
    "    Arguments:\n",
    "        data_frame = pandas data frame in filenames and labels format\n",
    "        batch_size = divide data in batches\n",
    "        shuffle = shuffle data before loading\n",
    "        img_shape = image shape in (h, w, d) format\n",
    "        augmentation = data augmentation to make model rebust to overfitting\n",
    "    \n",
    "    Output:\n",
    "        Img: numpy array of image\n",
    "        label : output label for image\n",
    "    '''\n",
    "    \n",
    "    def __init__(self, data_frame, labels, batch_size=10, img_shape=None, augmentation=True, num_classes=None):\n",
    "        self.data_frame = data_frame\n",
    "        self.labels = labels\n",
    "        self.train_len = len(data_frame)\n",
    "        self.batch_size = batch_size\n",
    "        self.img_shape = img_shape\n",
    "        self.num_classes = num_classes\n",
    "        print(f\"Found {self.data_frame.shape[0]} images belonging to {self.num_classes} classes\")\n",
    "\n",
    "    def __len__(self):\n",
    "        ''' return total number of batches '''\n",
    "        #self.data_frame = shuffle(self.data_frame)\n",
    "        return np.intmath.ceil(self.train_len/self.batch_size)\n",
    "\n",
    "    def on_epoch_end(self):\n",
    "        ''' shuffle data after every epoch '''\n",
    "        # fix on epoch end it's not working, adding shuffle in len for alternative\n",
    "        pass\n",
    "    \n",
    "    def __data_augmentation(self, img):\n",
    "        ''' function for apply some data augmentation '''\n",
    "        img = tf.image.resize(img, 512, 640)\n",
    "        img = tf.image.random_flip_up_down(img)\n",
    "        return img\n",
    "        \n",
    "    def __get_image(self, file_id):\n",
    "        \"\"\" open image with file_id path and apply data augmentation \"\"\"\n",
    "        img = np.asarray(Image.open(file_id))\n",
    "        img = np.resize(img, self.img_shape)\n",
    "        img = self.__data_augmentation(img)\n",
    "\n",
    "        return img\n",
    "\n",
    "    def __get_label(self, label_id):\n",
    "        \"\"\" uncomment the below line to convert label into categorical format \"\"\"\n",
    "        #label_id = tf.keras.utils.to_categorical(label_id, num_classes)\n",
    "        return label_id\n",
    "\n",
    "    def __getitem__(self, idx):\n",
    "        # batch_x = self.data_frame[\"filenames\"][idx * self.batch_size:(idx + 1) * self.batch_size]\n",
    "        # batch_y = self.data_frame[\"labels\"][idx * self.batch_size:(idx + 1) * self.batch_size]\n",
    "        # # read your data here using the batch lists, batch_x and batch_y\n",
    "        # x = [self.__get_image(file_id) for file_id in batch_x] \n",
    "        # y = [self.__get_label(label_id) for label_id in batch_y]\n",
    "\n",
    "        y = self.labels[idx * self.batch_size:(idx + 1) * self.batch_size]\n",
    "        paths = self.data_frame[\"path\"][idx * self.batch_size:(idx + 1) * self.batch_size]\n",
    "        base_paths = self.data_frame[\"base_path\"][idx * self.batch_size:(idx + 1) * self.batch_size]\n",
    "\n",
    "        #raw = [tf.io.read_file(path) for path in paths]\n",
    "        image = [tf.image.resize(tf.image.decode_png(tf.io.read_file(path), channels=3), (512,640)) for path in paths]\n",
    "        #base_raw = tf.io.read_file(base_path)\n",
    "        base_image = [tf.image.resize(tf.image.decode_png(tf.io.read_file(path), channels=3), (512,640)) for path in base_paths]\n",
    "\n",
    "        print(y)\n",
    "        return [np.asarray(base_image), np.asarray(image)], y\n",
    "\n",
    "        #return tf.convert_to_tensor(x), tf.convert_to_tensor(y)"
   ]
  },
  {
   "cell_type": "code",
   "execution_count": 21,
   "id": "578ac6ca",
   "metadata": {},
   "outputs": [
    {
     "name": "stdout",
     "output_type": "stream",
     "text": [
      "Found 1125 images belonging to None classes\n",
      "               x           y           z        qw        qx        qy  \\\n",
      "807    27.300751  114.353508   31.839813  0.956902  0.198209  0.016586   \n",
      "1229  601.903442   10.819830 -167.023010 -0.218553 -0.155113  0.821344   \n",
      "1480   23.211967  -58.528553   47.175888 -0.923449  0.268661 -0.101654   \n",
      "1436  115.176262   50.117092 -130.688095  0.736860 -0.248587 -0.486050   \n",
      "179    88.315498  121.511284   35.013283  0.548183  0.582245 -0.306732   \n",
      "...          ...         ...         ...       ...       ...       ...   \n",
      "129   254.584839  -13.965038  -34.405235 -0.032231 -0.137024 -0.154052   \n",
      "1061   79.531799  159.479446  -45.076118  0.899975  0.087413 -0.162958   \n",
      "331   264.647552  154.280045  270.853485  0.235060  0.728259 -0.132490   \n",
      "323   223.210693  249.846725  170.751617  0.652410  0.476736 -0.022427   \n",
      "680   259.335876 -202.858765 -212.845001  0.682440  0.324751 -0.236397   \n",
      "\n",
      "            qz  \n",
      "807  -0.211606  \n",
      "1229 -0.503556  \n",
      "1480 -0.254420  \n",
      "1436 -0.398744  \n",
      "179  -0.516142  \n",
      "...        ...  \n",
      "129  -0.977985  \n",
      "1061 -0.394776  \n",
      "331  -0.629946  \n",
      "323  -0.588711  \n",
      "680   0.610679  \n",
      "\n",
      "[100 rows x 7 columns]\n",
      "               x           y           z        qw        qx        qy  \\\n",
      "807    27.300751  114.353508   31.839813  0.956902  0.198209  0.016586   \n",
      "1229  601.903442   10.819830 -167.023010 -0.218553 -0.155113  0.821344   \n",
      "1480   23.211967  -58.528553   47.175888 -0.923449  0.268661 -0.101654   \n",
      "1436  115.176262   50.117092 -130.688095  0.736860 -0.248587 -0.486050   \n",
      "179    88.315498  121.511284   35.013283  0.548183  0.582245 -0.306732   \n",
      "...          ...         ...         ...       ...       ...       ...   \n",
      "129   254.584839  -13.965038  -34.405235 -0.032231 -0.137024 -0.154052   \n",
      "1061   79.531799  159.479446  -45.076118  0.899975  0.087413 -0.162958   \n",
      "331   264.647552  154.280045  270.853485  0.235060  0.728259 -0.132490   \n",
      "323   223.210693  249.846725  170.751617  0.652410  0.476736 -0.022427   \n",
      "680   259.335876 -202.858765 -212.845001  0.682440  0.324751 -0.236397   \n",
      "\n",
      "            qz  \n",
      "807  -0.211606  \n",
      "1229 -0.503556  \n",
      "1480 -0.254420  \n",
      "1436 -0.398744  \n",
      "179  -0.516142  \n",
      "...        ...  \n",
      "129  -0.977985  \n",
      "1061 -0.394776  \n",
      "331  -0.629946  \n",
      "323  -0.588711  \n",
      "680   0.610679  \n",
      "\n",
      "[100 rows x 7 columns]\n"
     ]
    }
   ],
   "source": [
    "\n",
    "\n",
    "\n",
    "datagen = CustomDataGenerator(x_train, y_train, batch_size=100)\n",
    "\n",
    "x, y = datagen[0]\n",
    "\n",
    "print(y)\n"
   ]
  },
  {
   "cell_type": "code",
   "execution_count": 11,
   "id": "7f054cb6",
   "metadata": {},
   "outputs": [],
   "source": [
    "def NormalizeQuat(x: tf.Tensor):\n",
    "    norm = tf.sqrt(tf.reduce_sum(tf.square(x)))\n",
    "    x = x / norm\n",
    "    return x"
   ]
  },
  {
   "cell_type": "code",
   "execution_count": 12,
   "id": "fae3acaa",
   "metadata": {},
   "outputs": [
    {
     "name": "stderr",
     "output_type": "stream",
     "text": [
      "/usr/local/lib/python3.11/dist-packages/keras/src/layers/convolutional/base_conv.py:99: UserWarning: Do not pass an `input_shape`/`input_dim` argument to a layer. When using Sequential models, prefer using an `Input(shape)` object as the first layer in the model instead.\n",
      "  super().__init__(\n"
     ]
    },
    {
     "data": {
      "text/html": [
       "<pre style=\"white-space:pre;overflow-x:auto;line-height:normal;font-family:Menlo,'DejaVu Sans Mono',consolas,'Courier New',monospace\"><span style=\"font-weight: bold\">Model: \"functional_7\"</span>\n",
       "</pre>\n"
      ],
      "text/plain": [
       "\u001b[1mModel: \"functional_7\"\u001b[0m\n"
      ]
     },
     "metadata": {},
     "output_type": "display_data"
    },
    {
     "data": {
      "text/html": [
       "<pre style=\"white-space:pre;overflow-x:auto;line-height:normal;font-family:Menlo,'DejaVu Sans Mono',consolas,'Courier New',monospace\">┏━━━━━━━━━━━━━━━━━━━━━┳━━━━━━━━━━━━━━━━━━━┳━━━━━━━━━━━━┳━━━━━━━━━━━━━━━━━━━┓\n",
       "┃<span style=\"font-weight: bold\"> Layer (type)        </span>┃<span style=\"font-weight: bold\"> Output Shape      </span>┃<span style=\"font-weight: bold\">    Param # </span>┃<span style=\"font-weight: bold\"> Connected to      </span>┃\n",
       "┡━━━━━━━━━━━━━━━━━━━━━╇━━━━━━━━━━━━━━━━━━━╇━━━━━━━━━━━━╇━━━━━━━━━━━━━━━━━━━┩\n",
       "│ input_layer_4       │ (<span style=\"color: #00d7ff; text-decoration-color: #00d7ff\">None</span>, <span style=\"color: #00af00; text-decoration-color: #00af00\">512</span>, <span style=\"color: #00af00; text-decoration-color: #00af00\">640</span>,  │          <span style=\"color: #00af00; text-decoration-color: #00af00\">0</span> │ -                 │\n",
       "│ (<span style=\"color: #0087ff; text-decoration-color: #0087ff\">InputLayer</span>)        │ <span style=\"color: #00af00; text-decoration-color: #00af00\">3</span>)                │            │                   │\n",
       "├─────────────────────┼───────────────────┼────────────┼───────────────────┤\n",
       "│ input_layer_5       │ (<span style=\"color: #00d7ff; text-decoration-color: #00d7ff\">None</span>, <span style=\"color: #00af00; text-decoration-color: #00af00\">512</span>, <span style=\"color: #00af00; text-decoration-color: #00af00\">640</span>,  │          <span style=\"color: #00af00; text-decoration-color: #00af00\">0</span> │ -                 │\n",
       "│ (<span style=\"color: #0087ff; text-decoration-color: #0087ff\">InputLayer</span>)        │ <span style=\"color: #00af00; text-decoration-color: #00af00\">3</span>)                │            │                   │\n",
       "├─────────────────────┼───────────────────┼────────────┼───────────────────┤\n",
       "│ sequential_1        │ (<span style=\"color: #00d7ff; text-decoration-color: #00d7ff\">None</span>, <span style=\"color: #00af00; text-decoration-color: #00af00\">63</span>, <span style=\"color: #00af00; text-decoration-color: #00af00\">79</span>,    │     <span style=\"color: #00af00; text-decoration-color: #00af00\">34,944</span> │ input_layer_4[<span style=\"color: #00af00; text-decoration-color: #00af00\">0</span>]… │\n",
       "│ (<span style=\"color: #0087ff; text-decoration-color: #0087ff\">Sequential</span>)        │ <span style=\"color: #00af00; text-decoration-color: #00af00\">96</span>)               │            │ input_layer_5[<span style=\"color: #00af00; text-decoration-color: #00af00\">0</span>]… │\n",
       "├─────────────────────┼───────────────────┼────────────┼───────────────────┤\n",
       "│ concatenate_1       │ (<span style=\"color: #00d7ff; text-decoration-color: #00d7ff\">None</span>, <span style=\"color: #00af00; text-decoration-color: #00af00\">63</span>, <span style=\"color: #00af00; text-decoration-color: #00af00\">79</span>,    │          <span style=\"color: #00af00; text-decoration-color: #00af00\">0</span> │ sequential_1[<span style=\"color: #00af00; text-decoration-color: #00af00\">0</span>][<span style=\"color: #00af00; text-decoration-color: #00af00\">…</span> │\n",
       "│ (<span style=\"color: #0087ff; text-decoration-color: #0087ff\">Concatenate</span>)       │ <span style=\"color: #00af00; text-decoration-color: #00af00\">192</span>)              │            │ sequential_1[<span style=\"color: #00af00; text-decoration-color: #00af00\">1</span>][<span style=\"color: #00af00; text-decoration-color: #00af00\">…</span> │\n",
       "├─────────────────────┼───────────────────┼────────────┼───────────────────┤\n",
       "│ flatten_1 (<span style=\"color: #0087ff; text-decoration-color: #0087ff\">Flatten</span>) │ (<span style=\"color: #00d7ff; text-decoration-color: #00d7ff\">None</span>, <span style=\"color: #00af00; text-decoration-color: #00af00\">955584</span>)    │          <span style=\"color: #00af00; text-decoration-color: #00af00\">0</span> │ concatenate_1[<span style=\"color: #00af00; text-decoration-color: #00af00\">0</span>]… │\n",
       "├─────────────────────┼───────────────────┼────────────┼───────────────────┤\n",
       "│ dropout_1 (<span style=\"color: #0087ff; text-decoration-color: #0087ff\">Dropout</span>) │ (<span style=\"color: #00d7ff; text-decoration-color: #00d7ff\">None</span>, <span style=\"color: #00af00; text-decoration-color: #00af00\">955584</span>)    │          <span style=\"color: #00af00; text-decoration-color: #00af00\">0</span> │ flatten_1[<span style=\"color: #00af00; text-decoration-color: #00af00\">0</span>][<span style=\"color: #00af00; text-decoration-color: #00af00\">0</span>]   │\n",
       "├─────────────────────┼───────────────────┼────────────┼───────────────────┤\n",
       "│ dense_2 (<span style=\"color: #0087ff; text-decoration-color: #0087ff\">Dense</span>)     │ (<span style=\"color: #00d7ff; text-decoration-color: #00d7ff\">None</span>, <span style=\"color: #00af00; text-decoration-color: #00af00\">8</span>)         │  <span style=\"color: #00af00; text-decoration-color: #00af00\">7,644,680</span> │ dropout_1[<span style=\"color: #00af00; text-decoration-color: #00af00\">0</span>][<span style=\"color: #00af00; text-decoration-color: #00af00\">0</span>]   │\n",
       "├─────────────────────┼───────────────────┼────────────┼───────────────────┤\n",
       "│ dense_3 (<span style=\"color: #0087ff; text-decoration-color: #0087ff\">Dense</span>)     │ (<span style=\"color: #00d7ff; text-decoration-color: #00d7ff\">None</span>, <span style=\"color: #00af00; text-decoration-color: #00af00\">4</span>)         │         <span style=\"color: #00af00; text-decoration-color: #00af00\">36</span> │ dense_2[<span style=\"color: #00af00; text-decoration-color: #00af00\">0</span>][<span style=\"color: #00af00; text-decoration-color: #00af00\">0</span>]     │\n",
       "├─────────────────────┼───────────────────┼────────────┼───────────────────┤\n",
       "│ lambda_1 (<span style=\"color: #0087ff; text-decoration-color: #0087ff\">Lambda</span>)   │ (<span style=\"color: #00d7ff; text-decoration-color: #00d7ff\">None</span>, <span style=\"color: #00d7ff; text-decoration-color: #00d7ff\">None</span>, <span style=\"color: #00af00; text-decoration-color: #00af00\">4</span>)   │          <span style=\"color: #00af00; text-decoration-color: #00af00\">0</span> │ dense_3[<span style=\"color: #00af00; text-decoration-color: #00af00\">0</span>][<span style=\"color: #00af00; text-decoration-color: #00af00\">0</span>]     │\n",
       "└─────────────────────┴───────────────────┴────────────┴───────────────────┘\n",
       "</pre>\n"
      ],
      "text/plain": [
       "┏━━━━━━━━━━━━━━━━━━━━━┳━━━━━━━━━━━━━━━━━━━┳━━━━━━━━━━━━┳━━━━━━━━━━━━━━━━━━━┓\n",
       "┃\u001b[1m \u001b[0m\u001b[1mLayer (type)       \u001b[0m\u001b[1m \u001b[0m┃\u001b[1m \u001b[0m\u001b[1mOutput Shape     \u001b[0m\u001b[1m \u001b[0m┃\u001b[1m \u001b[0m\u001b[1m   Param #\u001b[0m\u001b[1m \u001b[0m┃\u001b[1m \u001b[0m\u001b[1mConnected to     \u001b[0m\u001b[1m \u001b[0m┃\n",
       "┡━━━━━━━━━━━━━━━━━━━━━╇━━━━━━━━━━━━━━━━━━━╇━━━━━━━━━━━━╇━━━━━━━━━━━━━━━━━━━┩\n",
       "│ input_layer_4       │ (\u001b[38;5;45mNone\u001b[0m, \u001b[38;5;34m512\u001b[0m, \u001b[38;5;34m640\u001b[0m,  │          \u001b[38;5;34m0\u001b[0m │ -                 │\n",
       "│ (\u001b[38;5;33mInputLayer\u001b[0m)        │ \u001b[38;5;34m3\u001b[0m)                │            │                   │\n",
       "├─────────────────────┼───────────────────┼────────────┼───────────────────┤\n",
       "│ input_layer_5       │ (\u001b[38;5;45mNone\u001b[0m, \u001b[38;5;34m512\u001b[0m, \u001b[38;5;34m640\u001b[0m,  │          \u001b[38;5;34m0\u001b[0m │ -                 │\n",
       "│ (\u001b[38;5;33mInputLayer\u001b[0m)        │ \u001b[38;5;34m3\u001b[0m)                │            │                   │\n",
       "├─────────────────────┼───────────────────┼────────────┼───────────────────┤\n",
       "│ sequential_1        │ (\u001b[38;5;45mNone\u001b[0m, \u001b[38;5;34m63\u001b[0m, \u001b[38;5;34m79\u001b[0m,    │     \u001b[38;5;34m34,944\u001b[0m │ input_layer_4[\u001b[38;5;34m0\u001b[0m]… │\n",
       "│ (\u001b[38;5;33mSequential\u001b[0m)        │ \u001b[38;5;34m96\u001b[0m)               │            │ input_layer_5[\u001b[38;5;34m0\u001b[0m]… │\n",
       "├─────────────────────┼───────────────────┼────────────┼───────────────────┤\n",
       "│ concatenate_1       │ (\u001b[38;5;45mNone\u001b[0m, \u001b[38;5;34m63\u001b[0m, \u001b[38;5;34m79\u001b[0m,    │          \u001b[38;5;34m0\u001b[0m │ sequential_1[\u001b[38;5;34m0\u001b[0m][\u001b[38;5;34m…\u001b[0m │\n",
       "│ (\u001b[38;5;33mConcatenate\u001b[0m)       │ \u001b[38;5;34m192\u001b[0m)              │            │ sequential_1[\u001b[38;5;34m1\u001b[0m][\u001b[38;5;34m…\u001b[0m │\n",
       "├─────────────────────┼───────────────────┼────────────┼───────────────────┤\n",
       "│ flatten_1 (\u001b[38;5;33mFlatten\u001b[0m) │ (\u001b[38;5;45mNone\u001b[0m, \u001b[38;5;34m955584\u001b[0m)    │          \u001b[38;5;34m0\u001b[0m │ concatenate_1[\u001b[38;5;34m0\u001b[0m]… │\n",
       "├─────────────────────┼───────────────────┼────────────┼───────────────────┤\n",
       "│ dropout_1 (\u001b[38;5;33mDropout\u001b[0m) │ (\u001b[38;5;45mNone\u001b[0m, \u001b[38;5;34m955584\u001b[0m)    │          \u001b[38;5;34m0\u001b[0m │ flatten_1[\u001b[38;5;34m0\u001b[0m][\u001b[38;5;34m0\u001b[0m]   │\n",
       "├─────────────────────┼───────────────────┼────────────┼───────────────────┤\n",
       "│ dense_2 (\u001b[38;5;33mDense\u001b[0m)     │ (\u001b[38;5;45mNone\u001b[0m, \u001b[38;5;34m8\u001b[0m)         │  \u001b[38;5;34m7,644,680\u001b[0m │ dropout_1[\u001b[38;5;34m0\u001b[0m][\u001b[38;5;34m0\u001b[0m]   │\n",
       "├─────────────────────┼───────────────────┼────────────┼───────────────────┤\n",
       "│ dense_3 (\u001b[38;5;33mDense\u001b[0m)     │ (\u001b[38;5;45mNone\u001b[0m, \u001b[38;5;34m4\u001b[0m)         │         \u001b[38;5;34m36\u001b[0m │ dense_2[\u001b[38;5;34m0\u001b[0m][\u001b[38;5;34m0\u001b[0m]     │\n",
       "├─────────────────────┼───────────────────┼────────────┼───────────────────┤\n",
       "│ lambda_1 (\u001b[38;5;33mLambda\u001b[0m)   │ (\u001b[38;5;45mNone\u001b[0m, \u001b[38;5;45mNone\u001b[0m, \u001b[38;5;34m4\u001b[0m)   │          \u001b[38;5;34m0\u001b[0m │ dense_3[\u001b[38;5;34m0\u001b[0m][\u001b[38;5;34m0\u001b[0m]     │\n",
       "└─────────────────────┴───────────────────┴────────────┴───────────────────┘\n"
      ]
     },
     "metadata": {},
     "output_type": "display_data"
    },
    {
     "data": {
      "text/html": [
       "<pre style=\"white-space:pre;overflow-x:auto;line-height:normal;font-family:Menlo,'DejaVu Sans Mono',consolas,'Courier New',monospace\"><span style=\"font-weight: bold\"> Total params: </span><span style=\"color: #00af00; text-decoration-color: #00af00\">7,679,660</span> (29.30 MB)\n",
       "</pre>\n"
      ],
      "text/plain": [
       "\u001b[1m Total params: \u001b[0m\u001b[38;5;34m7,679,660\u001b[0m (29.30 MB)\n"
      ]
     },
     "metadata": {},
     "output_type": "display_data"
    },
    {
     "data": {
      "text/html": [
       "<pre style=\"white-space:pre;overflow-x:auto;line-height:normal;font-family:Menlo,'DejaVu Sans Mono',consolas,'Courier New',monospace\"><span style=\"font-weight: bold\"> Trainable params: </span><span style=\"color: #00af00; text-decoration-color: #00af00\">7,679,660</span> (29.30 MB)\n",
       "</pre>\n"
      ],
      "text/plain": [
       "\u001b[1m Trainable params: \u001b[0m\u001b[38;5;34m7,679,660\u001b[0m (29.30 MB)\n"
      ]
     },
     "metadata": {},
     "output_type": "display_data"
    },
    {
     "data": {
      "text/html": [
       "<pre style=\"white-space:pre;overflow-x:auto;line-height:normal;font-family:Menlo,'DejaVu Sans Mono',consolas,'Courier New',monospace\"><span style=\"font-weight: bold\"> Non-trainable params: </span><span style=\"color: #00af00; text-decoration-color: #00af00\">0</span> (0.00 B)\n",
       "</pre>\n"
      ],
      "text/plain": [
       "\u001b[1m Non-trainable params: \u001b[0m\u001b[38;5;34m0\u001b[0m (0.00 B)\n"
      ]
     },
     "metadata": {},
     "output_type": "display_data"
    },
    {
     "data": {
      "text/html": [
       "<pre style=\"white-space:pre;overflow-x:auto;line-height:normal;font-family:Menlo,'DejaVu Sans Mono',consolas,'Courier New',monospace\"><span style=\"font-weight: bold\">Model: \"functional_7\"</span>\n",
       "</pre>\n"
      ],
      "text/plain": [
       "\u001b[1mModel: \"functional_7\"\u001b[0m\n"
      ]
     },
     "metadata": {},
     "output_type": "display_data"
    },
    {
     "data": {
      "text/html": [
       "<pre style=\"white-space:pre;overflow-x:auto;line-height:normal;font-family:Menlo,'DejaVu Sans Mono',consolas,'Courier New',monospace\">┏━━━━━━━━━━━━━━━━━━━━━┳━━━━━━━━━━━━━━━━━━━┳━━━━━━━━━━━━┳━━━━━━━━━━━━━━━━━━━┓\n",
       "┃<span style=\"font-weight: bold\"> Layer (type)        </span>┃<span style=\"font-weight: bold\"> Output Shape      </span>┃<span style=\"font-weight: bold\">    Param # </span>┃<span style=\"font-weight: bold\"> Connected to      </span>┃\n",
       "┡━━━━━━━━━━━━━━━━━━━━━╇━━━━━━━━━━━━━━━━━━━╇━━━━━━━━━━━━╇━━━━━━━━━━━━━━━━━━━┩\n",
       "│ input_layer_4       │ (<span style=\"color: #00d7ff; text-decoration-color: #00d7ff\">None</span>, <span style=\"color: #00af00; text-decoration-color: #00af00\">512</span>, <span style=\"color: #00af00; text-decoration-color: #00af00\">640</span>,  │          <span style=\"color: #00af00; text-decoration-color: #00af00\">0</span> │ -                 │\n",
       "│ (<span style=\"color: #0087ff; text-decoration-color: #0087ff\">InputLayer</span>)        │ <span style=\"color: #00af00; text-decoration-color: #00af00\">3</span>)                │            │                   │\n",
       "├─────────────────────┼───────────────────┼────────────┼───────────────────┤\n",
       "│ input_layer_5       │ (<span style=\"color: #00d7ff; text-decoration-color: #00d7ff\">None</span>, <span style=\"color: #00af00; text-decoration-color: #00af00\">512</span>, <span style=\"color: #00af00; text-decoration-color: #00af00\">640</span>,  │          <span style=\"color: #00af00; text-decoration-color: #00af00\">0</span> │ -                 │\n",
       "│ (<span style=\"color: #0087ff; text-decoration-color: #0087ff\">InputLayer</span>)        │ <span style=\"color: #00af00; text-decoration-color: #00af00\">3</span>)                │            │                   │\n",
       "├─────────────────────┼───────────────────┼────────────┼───────────────────┤\n",
       "│ sequential_1        │ (<span style=\"color: #00d7ff; text-decoration-color: #00d7ff\">None</span>, <span style=\"color: #00af00; text-decoration-color: #00af00\">63</span>, <span style=\"color: #00af00; text-decoration-color: #00af00\">79</span>,    │     <span style=\"color: #00af00; text-decoration-color: #00af00\">34,944</span> │ input_layer_4[<span style=\"color: #00af00; text-decoration-color: #00af00\">0</span>]… │\n",
       "│ (<span style=\"color: #0087ff; text-decoration-color: #0087ff\">Sequential</span>)        │ <span style=\"color: #00af00; text-decoration-color: #00af00\">96</span>)               │            │ input_layer_5[<span style=\"color: #00af00; text-decoration-color: #00af00\">0</span>]… │\n",
       "├─────────────────────┼───────────────────┼────────────┼───────────────────┤\n",
       "│ concatenate_1       │ (<span style=\"color: #00d7ff; text-decoration-color: #00d7ff\">None</span>, <span style=\"color: #00af00; text-decoration-color: #00af00\">63</span>, <span style=\"color: #00af00; text-decoration-color: #00af00\">79</span>,    │          <span style=\"color: #00af00; text-decoration-color: #00af00\">0</span> │ sequential_1[<span style=\"color: #00af00; text-decoration-color: #00af00\">0</span>][<span style=\"color: #00af00; text-decoration-color: #00af00\">…</span> │\n",
       "│ (<span style=\"color: #0087ff; text-decoration-color: #0087ff\">Concatenate</span>)       │ <span style=\"color: #00af00; text-decoration-color: #00af00\">192</span>)              │            │ sequential_1[<span style=\"color: #00af00; text-decoration-color: #00af00\">1</span>][<span style=\"color: #00af00; text-decoration-color: #00af00\">…</span> │\n",
       "├─────────────────────┼───────────────────┼────────────┼───────────────────┤\n",
       "│ flatten_1 (<span style=\"color: #0087ff; text-decoration-color: #0087ff\">Flatten</span>) │ (<span style=\"color: #00d7ff; text-decoration-color: #00d7ff\">None</span>, <span style=\"color: #00af00; text-decoration-color: #00af00\">955584</span>)    │          <span style=\"color: #00af00; text-decoration-color: #00af00\">0</span> │ concatenate_1[<span style=\"color: #00af00; text-decoration-color: #00af00\">0</span>]… │\n",
       "├─────────────────────┼───────────────────┼────────────┼───────────────────┤\n",
       "│ dropout_1 (<span style=\"color: #0087ff; text-decoration-color: #0087ff\">Dropout</span>) │ (<span style=\"color: #00d7ff; text-decoration-color: #00d7ff\">None</span>, <span style=\"color: #00af00; text-decoration-color: #00af00\">955584</span>)    │          <span style=\"color: #00af00; text-decoration-color: #00af00\">0</span> │ flatten_1[<span style=\"color: #00af00; text-decoration-color: #00af00\">0</span>][<span style=\"color: #00af00; text-decoration-color: #00af00\">0</span>]   │\n",
       "├─────────────────────┼───────────────────┼────────────┼───────────────────┤\n",
       "│ dense_2 (<span style=\"color: #0087ff; text-decoration-color: #0087ff\">Dense</span>)     │ (<span style=\"color: #00d7ff; text-decoration-color: #00d7ff\">None</span>, <span style=\"color: #00af00; text-decoration-color: #00af00\">8</span>)         │  <span style=\"color: #00af00; text-decoration-color: #00af00\">7,644,680</span> │ dropout_1[<span style=\"color: #00af00; text-decoration-color: #00af00\">0</span>][<span style=\"color: #00af00; text-decoration-color: #00af00\">0</span>]   │\n",
       "├─────────────────────┼───────────────────┼────────────┼───────────────────┤\n",
       "│ dense_3 (<span style=\"color: #0087ff; text-decoration-color: #0087ff\">Dense</span>)     │ (<span style=\"color: #00d7ff; text-decoration-color: #00d7ff\">None</span>, <span style=\"color: #00af00; text-decoration-color: #00af00\">4</span>)         │         <span style=\"color: #00af00; text-decoration-color: #00af00\">36</span> │ dense_2[<span style=\"color: #00af00; text-decoration-color: #00af00\">0</span>][<span style=\"color: #00af00; text-decoration-color: #00af00\">0</span>]     │\n",
       "├─────────────────────┼───────────────────┼────────────┼───────────────────┤\n",
       "│ lambda_1 (<span style=\"color: #0087ff; text-decoration-color: #0087ff\">Lambda</span>)   │ (<span style=\"color: #00d7ff; text-decoration-color: #00d7ff\">None</span>, <span style=\"color: #00d7ff; text-decoration-color: #00d7ff\">None</span>, <span style=\"color: #00af00; text-decoration-color: #00af00\">4</span>)   │          <span style=\"color: #00af00; text-decoration-color: #00af00\">0</span> │ dense_3[<span style=\"color: #00af00; text-decoration-color: #00af00\">0</span>][<span style=\"color: #00af00; text-decoration-color: #00af00\">0</span>]     │\n",
       "└─────────────────────┴───────────────────┴────────────┴───────────────────┘\n",
       "</pre>\n"
      ],
      "text/plain": [
       "┏━━━━━━━━━━━━━━━━━━━━━┳━━━━━━━━━━━━━━━━━━━┳━━━━━━━━━━━━┳━━━━━━━━━━━━━━━━━━━┓\n",
       "┃\u001b[1m \u001b[0m\u001b[1mLayer (type)       \u001b[0m\u001b[1m \u001b[0m┃\u001b[1m \u001b[0m\u001b[1mOutput Shape     \u001b[0m\u001b[1m \u001b[0m┃\u001b[1m \u001b[0m\u001b[1m   Param #\u001b[0m\u001b[1m \u001b[0m┃\u001b[1m \u001b[0m\u001b[1mConnected to     \u001b[0m\u001b[1m \u001b[0m┃\n",
       "┡━━━━━━━━━━━━━━━━━━━━━╇━━━━━━━━━━━━━━━━━━━╇━━━━━━━━━━━━╇━━━━━━━━━━━━━━━━━━━┩\n",
       "│ input_layer_4       │ (\u001b[38;5;45mNone\u001b[0m, \u001b[38;5;34m512\u001b[0m, \u001b[38;5;34m640\u001b[0m,  │          \u001b[38;5;34m0\u001b[0m │ -                 │\n",
       "│ (\u001b[38;5;33mInputLayer\u001b[0m)        │ \u001b[38;5;34m3\u001b[0m)                │            │                   │\n",
       "├─────────────────────┼───────────────────┼────────────┼───────────────────┤\n",
       "│ input_layer_5       │ (\u001b[38;5;45mNone\u001b[0m, \u001b[38;5;34m512\u001b[0m, \u001b[38;5;34m640\u001b[0m,  │          \u001b[38;5;34m0\u001b[0m │ -                 │\n",
       "│ (\u001b[38;5;33mInputLayer\u001b[0m)        │ \u001b[38;5;34m3\u001b[0m)                │            │                   │\n",
       "├─────────────────────┼───────────────────┼────────────┼───────────────────┤\n",
       "│ sequential_1        │ (\u001b[38;5;45mNone\u001b[0m, \u001b[38;5;34m63\u001b[0m, \u001b[38;5;34m79\u001b[0m,    │     \u001b[38;5;34m34,944\u001b[0m │ input_layer_4[\u001b[38;5;34m0\u001b[0m]… │\n",
       "│ (\u001b[38;5;33mSequential\u001b[0m)        │ \u001b[38;5;34m96\u001b[0m)               │            │ input_layer_5[\u001b[38;5;34m0\u001b[0m]… │\n",
       "├─────────────────────┼───────────────────┼────────────┼───────────────────┤\n",
       "│ concatenate_1       │ (\u001b[38;5;45mNone\u001b[0m, \u001b[38;5;34m63\u001b[0m, \u001b[38;5;34m79\u001b[0m,    │          \u001b[38;5;34m0\u001b[0m │ sequential_1[\u001b[38;5;34m0\u001b[0m][\u001b[38;5;34m…\u001b[0m │\n",
       "│ (\u001b[38;5;33mConcatenate\u001b[0m)       │ \u001b[38;5;34m192\u001b[0m)              │            │ sequential_1[\u001b[38;5;34m1\u001b[0m][\u001b[38;5;34m…\u001b[0m │\n",
       "├─────────────────────┼───────────────────┼────────────┼───────────────────┤\n",
       "│ flatten_1 (\u001b[38;5;33mFlatten\u001b[0m) │ (\u001b[38;5;45mNone\u001b[0m, \u001b[38;5;34m955584\u001b[0m)    │          \u001b[38;5;34m0\u001b[0m │ concatenate_1[\u001b[38;5;34m0\u001b[0m]… │\n",
       "├─────────────────────┼───────────────────┼────────────┼───────────────────┤\n",
       "│ dropout_1 (\u001b[38;5;33mDropout\u001b[0m) │ (\u001b[38;5;45mNone\u001b[0m, \u001b[38;5;34m955584\u001b[0m)    │          \u001b[38;5;34m0\u001b[0m │ flatten_1[\u001b[38;5;34m0\u001b[0m][\u001b[38;5;34m0\u001b[0m]   │\n",
       "├─────────────────────┼───────────────────┼────────────┼───────────────────┤\n",
       "│ dense_2 (\u001b[38;5;33mDense\u001b[0m)     │ (\u001b[38;5;45mNone\u001b[0m, \u001b[38;5;34m8\u001b[0m)         │  \u001b[38;5;34m7,644,680\u001b[0m │ dropout_1[\u001b[38;5;34m0\u001b[0m][\u001b[38;5;34m0\u001b[0m]   │\n",
       "├─────────────────────┼───────────────────┼────────────┼───────────────────┤\n",
       "│ dense_3 (\u001b[38;5;33mDense\u001b[0m)     │ (\u001b[38;5;45mNone\u001b[0m, \u001b[38;5;34m4\u001b[0m)         │         \u001b[38;5;34m36\u001b[0m │ dense_2[\u001b[38;5;34m0\u001b[0m][\u001b[38;5;34m0\u001b[0m]     │\n",
       "├─────────────────────┼───────────────────┼────────────┼───────────────────┤\n",
       "│ lambda_1 (\u001b[38;5;33mLambda\u001b[0m)   │ (\u001b[38;5;45mNone\u001b[0m, \u001b[38;5;45mNone\u001b[0m, \u001b[38;5;34m4\u001b[0m)   │          \u001b[38;5;34m0\u001b[0m │ dense_3[\u001b[38;5;34m0\u001b[0m][\u001b[38;5;34m0\u001b[0m]     │\n",
       "└─────────────────────┴───────────────────┴────────────┴───────────────────┘\n"
      ]
     },
     "metadata": {},
     "output_type": "display_data"
    },
    {
     "data": {
      "text/html": [
       "<pre style=\"white-space:pre;overflow-x:auto;line-height:normal;font-family:Menlo,'DejaVu Sans Mono',consolas,'Courier New',monospace\"><span style=\"font-weight: bold\"> Total params: </span><span style=\"color: #00af00; text-decoration-color: #00af00\">7,679,660</span> (29.30 MB)\n",
       "</pre>\n"
      ],
      "text/plain": [
       "\u001b[1m Total params: \u001b[0m\u001b[38;5;34m7,679,660\u001b[0m (29.30 MB)\n"
      ]
     },
     "metadata": {},
     "output_type": "display_data"
    },
    {
     "data": {
      "text/html": [
       "<pre style=\"white-space:pre;overflow-x:auto;line-height:normal;font-family:Menlo,'DejaVu Sans Mono',consolas,'Courier New',monospace\"><span style=\"font-weight: bold\"> Trainable params: </span><span style=\"color: #00af00; text-decoration-color: #00af00\">7,679,660</span> (29.30 MB)\n",
       "</pre>\n"
      ],
      "text/plain": [
       "\u001b[1m Trainable params: \u001b[0m\u001b[38;5;34m7,679,660\u001b[0m (29.30 MB)\n"
      ]
     },
     "metadata": {},
     "output_type": "display_data"
    },
    {
     "data": {
      "text/html": [
       "<pre style=\"white-space:pre;overflow-x:auto;line-height:normal;font-family:Menlo,'DejaVu Sans Mono',consolas,'Courier New',monospace\"><span style=\"font-weight: bold\"> Non-trainable params: </span><span style=\"color: #00af00; text-decoration-color: #00af00\">0</span> (0.00 B)\n",
       "</pre>\n"
      ],
      "text/plain": [
       "\u001b[1m Non-trainable params: \u001b[0m\u001b[38;5;34m0\u001b[0m (0.00 B)\n"
      ]
     },
     "metadata": {},
     "output_type": "display_data"
    },
    {
     "name": "stdout",
     "output_type": "stream",
     "text": [
      "Found 1125 images belonging to None classes\n"
     ]
    },
    {
     "ename": "AttributeError",
     "evalue": "module 'numpy' has no attribute 'intmath'",
     "output_type": "error",
     "traceback": [
      "\u001b[0;31m---------------------------------------------------------------------------\u001b[0m",
      "\u001b[0;31mAttributeError\u001b[0m                            Traceback (most recent call last)",
      "Cell \u001b[0;32mIn[12], line 21\u001b[0m\n\u001b[1;32m     19\u001b[0m model_rot\u001b[38;5;241m.\u001b[39mcompile(optimizer\u001b[38;5;241m=\u001b[39mAdam(learning_rate\u001b[38;5;241m=\u001b[39m\u001b[38;5;241m0.001\u001b[39m), loss\u001b[38;5;241m=\u001b[39m\u001b[38;5;124m\"\u001b[39m\u001b[38;5;124mmae\u001b[39m\u001b[38;5;124m\"\u001b[39m)\n\u001b[1;32m     20\u001b[0m model_rot\u001b[38;5;241m.\u001b[39msummary()\n\u001b[0;32m---> 21\u001b[0m \u001b[43mload_images_and_train_model\u001b[49m\u001b[43m(\u001b[49m\u001b[43mmodel_rot\u001b[49m\u001b[43m,\u001b[49m\u001b[43m \u001b[49m\u001b[38;5;28;43;01mFalse\u001b[39;49;00m\u001b[43m)\u001b[49m\n\u001b[1;32m     23\u001b[0m \u001b[38;5;66;03m# Position model\u001b[39;00m\n\u001b[1;32m     24\u001b[0m \u001b[38;5;66;03m# conv_branch = create_conv_branch_pos(input_shape)\u001b[39;00m\n\u001b[1;32m     25\u001b[0m \u001b[38;5;66;03m# branch_a = Input(shape=input_shape)\u001b[39;00m\n\u001b[0;32m   (...)\u001b[0m\n\u001b[1;32m     47\u001b[0m \u001b[38;5;66;03m# yhat = model(x_test)\u001b[39;00m\n\u001b[1;32m     48\u001b[0m \u001b[38;5;66;03m# var_inv = 1 / yhat.variance()\u001b[39;00m\n",
      "Cell \u001b[0;32mIn[9], line 16\u001b[0m, in \u001b[0;36mload_images_and_train_model\u001b[0;34m(model, is_pos_model)\u001b[0m\n\u001b[1;32m     14\u001b[0m     \u001b[38;5;28;01melse\u001b[39;00m:\n\u001b[1;32m     15\u001b[0m         yquat \u001b[38;5;241m=\u001b[39m pd\u001b[38;5;241m.\u001b[39mDataFrame(y_train, index\u001b[38;5;241m=\u001b[39my_train\u001b[38;5;241m.\u001b[39mindex, columns\u001b[38;5;241m=\u001b[39m[\u001b[38;5;124m\"\u001b[39m\u001b[38;5;124mqw\u001b[39m\u001b[38;5;124m\"\u001b[39m, \u001b[38;5;124m\"\u001b[39m\u001b[38;5;124mqx\u001b[39m\u001b[38;5;124m\"\u001b[39m, \u001b[38;5;124m\"\u001b[39m\u001b[38;5;124mqy\u001b[39m\u001b[38;5;124m\"\u001b[39m, \u001b[38;5;124m\"\u001b[39m\u001b[38;5;124mqz\u001b[39m\u001b[38;5;124m\"\u001b[39m])\n\u001b[0;32m---> 16\u001b[0m         \u001b[43mmodel\u001b[49m\u001b[38;5;241;43m.\u001b[39;49m\u001b[43mfit\u001b[49m\u001b[43m(\u001b[49m\u001b[43mCustomDataGenerator\u001b[49m\u001b[43m(\u001b[49m\u001b[43mx_train\u001b[49m\u001b[43m,\u001b[49m\u001b[43m \u001b[49m\u001b[43myquat\u001b[49m\u001b[43m,\u001b[49m\u001b[43m \u001b[49m\u001b[43mbatch_size\u001b[49m\u001b[38;5;241;43m=\u001b[39;49m\u001b[38;5;241;43m100\u001b[39;49m\u001b[43m)\u001b[49m\u001b[43m,\u001b[49m\u001b[43m \u001b[49m\u001b[43mepochs\u001b[49m\u001b[38;5;241;43m=\u001b[39;49m\u001b[38;5;241;43m3\u001b[39;49m\u001b[43m)\u001b[49m\n\u001b[1;32m     20\u001b[0m \u001b[38;5;66;03m#     ypreddf = pd.DataFrame(ypred.T, index=image_label_ds.take(count * 100 * 0.2).index_array, columns=[\"x\", \"y\", \"z\"])\u001b[39;00m\n\u001b[1;32m     21\u001b[0m \u001b[38;5;66;03m#     dfY = pd.read_csv(\"../data/train_labels.csv\")[:count * 100]\u001b[39;00m\n\u001b[1;32m     22\u001b[0m \u001b[38;5;66;03m#     dfY_merged = pd.merge(ypreddf.drop([\"x\", \"y\", \"z\"], axis=1), dfY, left_index=True, right_index=True)\u001b[39;00m\n\u001b[0;32m   (...)\u001b[0m\n\u001b[1;32m     32\u001b[0m \u001b[38;5;66;03m#     ToCSV(df_merged, \"cnn-test\")\u001b[39;00m\n\u001b[1;32m     33\u001b[0m \u001b[38;5;66;03m#     ToCSV(dfY_merged, \"cnn-true\")\u001b[39;00m\n\u001b[1;32m     35\u001b[0m \u001b[38;5;28;01mreturn\u001b[39;00m model\n",
      "File \u001b[0;32m/usr/local/lib/python3.11/dist-packages/keras/src/utils/traceback_utils.py:123\u001b[0m, in \u001b[0;36mfilter_traceback.<locals>.error_handler\u001b[0;34m(*args, **kwargs)\u001b[0m\n\u001b[1;32m    120\u001b[0m     filtered_tb \u001b[38;5;241m=\u001b[39m _process_traceback_frames(e\u001b[38;5;241m.\u001b[39m__traceback__)\n\u001b[1;32m    121\u001b[0m     \u001b[38;5;66;03m# To get the full stack trace, call:\u001b[39;00m\n\u001b[1;32m    122\u001b[0m     \u001b[38;5;66;03m# `keras.config.disable_traceback_filtering()`\u001b[39;00m\n\u001b[0;32m--> 123\u001b[0m     \u001b[38;5;28;01mraise\u001b[39;00m e\u001b[38;5;241m.\u001b[39mwith_traceback(filtered_tb) \u001b[38;5;28;01mfrom\u001b[39;00m \u001b[38;5;28;01mNone\u001b[39;00m\n\u001b[1;32m    124\u001b[0m \u001b[38;5;28;01mfinally\u001b[39;00m:\n\u001b[1;32m    125\u001b[0m     \u001b[38;5;28;01mdel\u001b[39;00m filtered_tb\n",
      "Cell \u001b[0;32mIn[10], line 30\u001b[0m, in \u001b[0;36mCustomDataGenerator.__len__\u001b[0;34m(self)\u001b[0m\n\u001b[1;32m     28\u001b[0m \u001b[38;5;250m\u001b[39m\u001b[38;5;124;03m''' return total number of batches '''\u001b[39;00m\n\u001b[1;32m     29\u001b[0m \u001b[38;5;66;03m#self.data_frame = shuffle(self.data_frame)\u001b[39;00m\n\u001b[0;32m---> 30\u001b[0m \u001b[38;5;28;01mreturn\u001b[39;00m \u001b[43mnp\u001b[49m\u001b[38;5;241;43m.\u001b[39;49m\u001b[43mintmath\u001b[49m\u001b[38;5;241m.\u001b[39mceil(\u001b[38;5;28mself\u001b[39m\u001b[38;5;241m.\u001b[39mtrain_len\u001b[38;5;241m/\u001b[39m\u001b[38;5;28mself\u001b[39m\u001b[38;5;241m.\u001b[39mbatch_size)\n",
      "File \u001b[0;32m/usr/local/lib/python3.11/dist-packages/numpy/__init__.py:333\u001b[0m, in \u001b[0;36m__getattr__\u001b[0;34m(attr)\u001b[0m\n\u001b[1;32m    330\u001b[0m     \u001b[38;5;124m\"\u001b[39m\u001b[38;5;124mRemoved in NumPy 1.25.0\u001b[39m\u001b[38;5;124m\"\u001b[39m\n\u001b[1;32m    331\u001b[0m     \u001b[38;5;28;01mraise\u001b[39;00m \u001b[38;5;167;01mRuntimeError\u001b[39;00m(\u001b[38;5;124m\"\u001b[39m\u001b[38;5;124mTester was removed in NumPy 1.25.\u001b[39m\u001b[38;5;124m\"\u001b[39m)\n\u001b[0;32m--> 333\u001b[0m \u001b[38;5;28;01mraise\u001b[39;00m \u001b[38;5;167;01mAttributeError\u001b[39;00m(\u001b[38;5;124m\"\u001b[39m\u001b[38;5;124mmodule \u001b[39m\u001b[38;5;132;01m{!r}\u001b[39;00m\u001b[38;5;124m has no attribute \u001b[39m\u001b[38;5;124m\"\u001b[39m\n\u001b[1;32m    334\u001b[0m                      \u001b[38;5;124m\"\u001b[39m\u001b[38;5;132;01m{!r}\u001b[39;00m\u001b[38;5;124m\"\u001b[39m\u001b[38;5;241m.\u001b[39mformat(\u001b[38;5;18m__name__\u001b[39m, attr))\n",
      "\u001b[0;31mAttributeError\u001b[0m: module 'numpy' has no attribute 'intmath'"
     ]
    }
   ],
   "source": [
    "\n",
    "input_shape=(512, 640, 3)\n",
    "\n",
    "# Rotation model\n",
    "conv_branch = create_conv_branch(input_shape)\n",
    "branch_a = Input(shape=input_shape)\n",
    "branch_b = Input(shape=input_shape)\n",
    "\n",
    "processed_a = conv_branch(branch_a)\n",
    "processed_b = conv_branch(branch_b)\n",
    "\n",
    "concat = keras.layers.concatenate([processed_a, processed_b])\n",
    "x1 = Flatten()(concat)\n",
    "x1 = Dropout(0.25)(x1)\n",
    "x1 = Dense(8)(x1)\n",
    "output = Dense(4)(x1)\n",
    "postprocess = Lambda(NormalizeQuat, output_shape=(None,4))(output)\n",
    "\n",
    "model_rot = Model(inputs=[branch_a,branch_b], outputs=postprocess)\n",
    "model_rot.compile(optimizer=Adam(learning_rate=0.001), loss=\"mae\")\n",
    "model_rot.summary()\n",
    "load_images_and_train_model(model_rot, False)\n",
    "\n",
    "# Position model\n",
    "# conv_branch = create_conv_branch_pos(input_shape)\n",
    "# branch_a = Input(shape=input_shape)\n",
    "# branch_b = Input(shape=input_shape)\n",
    "\n",
    "# processed_a = conv_branch(branch_a)\n",
    "# processed_b = conv_branch(branch_b)\n",
    "\n",
    "# concat = keras.layers.concatenate([processed_a, processed_b])\n",
    "\n",
    "# x1 = Flatten()(concat)\n",
    "# x1 = Dropout(0.25)(x1)\n",
    "# x1 = Dense(16)(x1)\n",
    "# x1 = Dropout(0.25)(x1)\n",
    "# x1 = Dense(16)(x1)\n",
    "# x1 = Dropout(0.25)(x1)\n",
    "# x1 = Dense(16)(x1)\n",
    "# output = Dense(7)(x1)\n",
    "\n",
    "# model_pos = Model(inputs=[branch_a,branch_b], outputs=output)\n",
    "# model_pos.compile(optimizer=Adam(learning_rate=0.0001), loss=\"log_cosh\")\n",
    "# model_pos.summary()\n",
    "# load_images_and_train_model(model_pos, True)\n",
    "\n",
    "# yhat = model(x_test)\n",
    "# var_inv = 1 / yhat.variance()"
   ]
  },
  {
   "cell_type": "code",
   "execution_count": null,
   "id": "38166d0f",
   "metadata": {},
   "outputs": [],
   "source": [
    "# Make predictions\n",
    "ypred = pd.DataFrame(model_rot.predict(CustomDataGenerator(x_test, y_test, 20)), index=y_test.index, columns=[\"qw\", \"qx\", \"qy\", \"qz\"]) # Predict rotation\n",
    "#ypred = pd.DataFrame(model_pos.predict(CustomDataGenerator(x_test, y_test, 50)), index=y_test.index, columns=[\"x\", \"y\", \"z\", \"qw\", \"qx\", \"qy\", \"qz\"]) # Predict position\n",
    "#ypred = pd.merge(ypred_pos, ypred_rot, left_index=True, right_index=True)\n",
    "#ypred[[\"qw\", \"qx\", \"qy\", \"qz\"]] = ypred[[\"qw\", \"qx\", \"qy\", \"qz\"]].clip(lower=-1, upper=1)\n",
    "\n",
    "ypred[\"chain_id\"] = dfY.iloc[ypred.index].chain_id\n",
    "ypred[\"i\"] = dfY.iloc[ypred.index].i.astype(int)\n",
    "# y_pred_norm = np.linalg.norm(ypred[[\"qw\", \"qx\", \"qy\", \"qz\"]], axis=1)\n",
    "# ypred[\"qw\"] = ypred[\"qw\"] / y_pred_norm\n",
    "# ypred[\"qx\"] = ypred[\"qx\"] / y_pred_norm\n",
    "# ypred[\"qy\"] = ypred[\"qy\"] / y_pred_norm\n",
    "# ypred[\"qz\"] = ypred[\"qz\"] / y_pred_norm\n",
    "#ypred.loc[ypred.i == 0, [\"x\", \"y\", \"z\", \"qw\", \"qx\", \"qy\", \"qz\"]] = [0,0,0,1,0,0,0]\n",
    "# ypred[[\"qw\", \"qx\", \"qy\", \"qz\"]] = [0,0,0,0]\n",
    "ypred[[\"x\", \"y\", \"z\"]] = [0,0,0]\n",
    "ypred = ypred[[\"chain_id\", \"i\", \"x\", \"y\", \"z\", \"qw\", \"qx\", \"qy\", \"qz\"]]\n",
    "ypred.loc[ypred.i == 0, [\"x\", \"y\", \"z\", \"qw\", \"qx\", \"qy\", \"qz\"]] = [0,0,0,1,0,0,0]\n",
    "ypred.set_index([\"chain_id\", \"i\"], inplace=True)\n",
    "ToCSV(ypred, \"cnn-test\")\n",
    "y_copy = y_test.copy()\n",
    "y_copy[\"chain_id\"] = dfY.iloc[y_copy.index].chain_id\n",
    "y_copy[\"i\"] = dfY.iloc[y_copy.index].i.astype(int)\n",
    "y_copy.set_index([\"chain_id\", \"i\"], inplace=True)\n",
    "ToCSV(y_copy, \"cnn-true\")\n",
    "\n",
    "#model.save('../models/test_model.keras')"
   ]
  }
 ],
 "metadata": {
  "kernelspec": {
   "display_name": "Python 3 (ipykernel)",
   "language": "python",
   "name": "python3"
  },
  "language_info": {
   "codemirror_mode": {
    "name": "ipython",
    "version": 3
   },
   "file_extension": ".py",
   "mimetype": "text/x-python",
   "name": "python",
   "nbconvert_exporter": "python",
   "pygments_lexer": "ipython3",
   "version": "3.11.0rc1"
  }
 },
 "nbformat": 4,
 "nbformat_minor": 5
}
